{
  "nbformat": 4,
  "nbformat_minor": 0,
  "metadata": {
    "colab": {
      "name": "Dictionaries",
      "provenance": []
    },
    "kernelspec": {
      "name": "python3",
      "display_name": "Python 3"
    }
  },
  "cells": [
    {
      "cell_type": "code",
      "metadata": {
        "id": "YLYYLW_GmBLs"
      },
      "source": [
        "# A dictionary is a collection which is unordered, changeable and indexed.\n",
        "# Python dictionaries are written with curly brackets, and they have keys and values."
      ],
      "execution_count": null,
      "outputs": []
    },
    {
      "cell_type": "code",
      "metadata": {
        "id": "6PMfB6-1sFVs"
      },
      "source": [
        "#clear, update, clear, pop, popitem, delete, update, get,copy, len, values, keys"
      ],
      "execution_count": null,
      "outputs": []
    },
    {
      "cell_type": "code",
      "metadata": {
        "id": "jkkLNj54rqVf"
      },
      "source": [
        "my_dict = {\n",
        "    \n",
        "    \n",
        "    \"k\":\"josh\",'t':\"Monish\",'l':\"Sudhan\"\n",
        "    \n",
        "    }\n",
        "print(my_dict)\n",
        "my_dict[\"t\"]"
      ],
      "execution_count": null,
      "outputs": []
    },
    {
      "cell_type": "code",
      "metadata": {
        "id": "mYBGNul2nYZo",
        "colab": {
          "base_uri": "https://localhost:8080/",
          "height": 118
        },
        "outputId": "2c1a0b1c-bcd5-4dca-f3e8-7b971ffd849f"
      },
      "source": [
        "\n",
        "my_dict = {\n",
        "    \n",
        "    \n",
        "    \"k\":\"josh\",'t':\"Monish\",'l':\"Sudhan\"\n",
        "    \n",
        "    }\n",
        "print(my_dict)\n",
        "my_dict[\"t\"]\n",
        "my_dict.get(\"k\")\n",
        "my_dict[\"k\"]= \"Joshua\"\n",
        "print(my_dict)\n",
        "my_dict.values()\n",
        "if \"t\" in my_dict:\n",
        "  print(\"True\")\n",
        "len(my_dict)\n",
        "my_dict.pop('t')\n",
        "print(my_dict)\n",
        "mmy_dict = my_dict.copy()\n",
        "my_dict.popitem()\n",
        "print(my_dict)\n",
        "print(mmy_dict)"
      ],
      "execution_count": null,
      "outputs": [
        {
          "output_type": "stream",
          "text": [
            "{'k': 'josh', 't': 'Monish', 'l': 'Sudhan'}\n",
            "{'k': 'Joshua', 't': 'Monish', 'l': 'Sudhan'}\n",
            "True\n",
            "{'k': 'Joshua', 'l': 'Sudhan'}\n",
            "{'k': 'Joshua'}\n",
            "{'k': 'Joshua', 'l': 'Sudhan'}\n"
          ],
          "name": "stdout"
        }
      ]
    },
    {
      "cell_type": "code",
      "metadata": {
        "id": "oEuvn8Z6pyvD",
        "colab": {
          "base_uri": "https://localhost:8080/",
          "height": 34
        },
        "outputId": "4d3f2977-abb0-4eb2-8cd7-354ad2597f5d"
      },
      "source": [
        "my_dict.clear()\n",
        "print(my_dict)"
      ],
      "execution_count": null,
      "outputs": [
        {
          "output_type": "stream",
          "text": [
            "{}\n"
          ],
          "name": "stdout"
        }
      ]
    },
    {
      "cell_type": "code",
      "metadata": {
        "id": "CWnh_WZ4p45I",
        "colab": {
          "base_uri": "https://localhost:8080/",
          "height": 162
        },
        "outputId": "426b550e-049e-41d7-c1e2-e2ccb2b3ddd5"
      },
      "source": [
        "del my_dict"
      ],
      "execution_count": null,
      "outputs": [
        {
          "output_type": "error",
          "ename": "NameError",
          "evalue": "ignored",
          "traceback": [
            "\u001b[0;31m---------------------------------------------------------------------------\u001b[0m",
            "\u001b[0;31mNameError\u001b[0m                                 Traceback (most recent call last)",
            "\u001b[0;32m<ipython-input-33-553d2ba8ae04>\u001b[0m in \u001b[0;36m<module>\u001b[0;34m()\u001b[0m\n\u001b[0;32m----> 1\u001b[0;31m \u001b[0;32mdel\u001b[0m \u001b[0mmy_dict\u001b[0m\u001b[0;34m\u001b[0m\u001b[0;34m\u001b[0m\u001b[0m\n\u001b[0m",
            "\u001b[0;31mNameError\u001b[0m: name 'my_dict' is not defined"
          ]
        }
      ]
    },
    {
      "cell_type": "code",
      "metadata": {
        "id": "r68TnwELq18f",
        "colab": {
          "base_uri": "https://localhost:8080/",
          "height": 34
        },
        "outputId": "d9465b62-0b0c-4f31-cf5d-eab357dbcc81"
      },
      "source": [
        "my_dict = {\n",
        "    \n",
        "    \n",
        "    \"k\":\"josh\",'t':\"Monish\",'l':\"Sudhan\"\n",
        "    \n",
        "    }\n",
        "print(my_dict)"
      ],
      "execution_count": null,
      "outputs": [
        {
          "output_type": "stream",
          "text": [
            "{'k': 'josh', 't': 'Monish', 'l': 'Sudhan'}\n"
          ],
          "name": "stdout"
        }
      ]
    },
    {
      "cell_type": "code",
      "metadata": {
        "id": "Sdx-jMz3q372",
        "colab": {
          "base_uri": "https://localhost:8080/",
          "height": 34
        },
        "outputId": "277d00b0-c08d-44ca-95cd-237ef5bc44c0"
      },
      "source": [
        "my_dict.update({'j':\"Anand\"})\n",
        "print(my_dict )"
      ],
      "execution_count": null,
      "outputs": [
        {
          "output_type": "stream",
          "text": [
            "{'k': 'josh', 't': 'Monish', 'l': 'Sudhan', 'j': 'Anand'}\n"
          ],
          "name": "stdout"
        }
      ]
    },
    {
      "cell_type": "code",
      "metadata": {
        "id": "mTf1MsQtr3Zg",
        "colab": {
          "base_uri": "https://localhost:8080/",
          "height": 35
        },
        "outputId": "0cdbb2f7-0a0d-488c-8575-32a79831cd17"
      },
      "source": [
        "my_dict.get(\"t\")\n",
        "my_dict[\"k\"]"
      ],
      "execution_count": null,
      "outputs": [
        {
          "output_type": "execute_result",
          "data": {
            "application/vnd.google.colaboratory.intrinsic+json": {
              "type": "string"
            },
            "text/plain": [
              "'josh'"
            ]
          },
          "metadata": {
            "tags": []
          },
          "execution_count": 38
        }
      ]
    },
    {
      "cell_type": "code",
      "metadata": {
        "id": "2boHV2Yxsj0w",
        "colab": {
          "base_uri": "https://localhost:8080/",
          "height": 34
        },
        "outputId": "58eb61ee-b122-4779-d918-2171adb6a9ea"
      },
      "source": [
        "x = dict(name = \"josh\", age = 24, country = \"India\")\n",
        "print(x)\n"
      ],
      "execution_count": null,
      "outputs": [
        {
          "output_type": "stream",
          "text": [
            "{'name': 'josh', 'age': 24, 'country': 'India'}\n"
          ],
          "name": "stdout"
        }
      ]
    },
    {
      "cell_type": "code",
      "metadata": {
        "id": "eEWC1bn8thsx",
        "colab": {
          "base_uri": "https://localhost:8080/",
          "height": 52
        },
        "outputId": "82fc484a-f835-49fb-937d-8c08cef22779"
      },
      "source": [
        "nested_dict = { 'classroom1': {'Student1': 'Josh'},\n",
        "                'classroom2': {'student2': 'Monish'}}\n",
        "print(nested_dict)\n",
        "nested_dict['classroom1']['Student1']               "
      ],
      "execution_count": null,
      "outputs": [
        {
          "output_type": "stream",
          "text": [
            "{'classroom1': {'Student1': 'Josh'}, 'classroom2': {'student2': 'Monish'}}\n"
          ],
          "name": "stdout"
        },
        {
          "output_type": "execute_result",
          "data": {
            "application/vnd.google.colaboratory.intrinsic+json": {
              "type": "string"
            },
            "text/plain": [
              "'Josh'"
            ]
          },
          "metadata": {
            "tags": []
          },
          "execution_count": 49
        }
      ]
    },
    {
      "cell_type": "code",
      "metadata": {
        "id": "9QkFTXtAui1K",
        "colab": {
          "base_uri": "https://localhost:8080/",
          "height": 52
        },
        "outputId": "aac9b398-2e1a-4b0e-9f26-ef1a260f281b"
      },
      "source": [
        "classroom = {1: {'name': 'John', 'age': '13', 'sex': 'Male'},\n",
        "          2: {'name': 'Marie', 'age': '11', 'sex': 'Female'}}\n",
        "print(classroom)\n",
        "classroom[1]['age']"
      ],
      "execution_count": null,
      "outputs": [
        {
          "output_type": "stream",
          "text": [
            "{1: {'name': 'John', 'age': '13', 'sex': 'Male'}, 2: {'name': 'Marie', 'age': '11', 'sex': 'Female'}}\n"
          ],
          "name": "stdout"
        },
        {
          "output_type": "execute_result",
          "data": {
            "application/vnd.google.colaboratory.intrinsic+json": {
              "type": "string"
            },
            "text/plain": [
              "'13'"
            ]
          },
          "metadata": {
            "tags": []
          },
          "execution_count": 56
        }
      ]
    },
    {
      "cell_type": "code",
      "metadata": {
        "id": "vvRuubL4vLYt",
        "colab": {
          "base_uri": "https://localhost:8080/",
          "height": 34
        },
        "outputId": "8aad8715-884b-4a1f-c703-69d98e793fbd"
      },
      "source": [
        "classroom[2]"
      ],
      "execution_count": null,
      "outputs": [
        {
          "output_type": "execute_result",
          "data": {
            "text/plain": [
              "{'age': '11', 'name': 'Marie', 'sex': 'Female'}"
            ]
          },
          "metadata": {
            "tags": []
          },
          "execution_count": 57
        }
      ]
    },
    {
      "cell_type": "code",
      "metadata": {
        "id": "bs76FqZPzaqR",
        "colab": {
          "base_uri": "https://localhost:8080/",
          "height": 34
        },
        "outputId": "5216f0fc-e592-4bea-eed4-45b3a622ca59"
      },
      "source": [
        "phone_book= {'Joshua': 8383883,'Monish':937373773,\"george\":83737378}\n",
        "print(phone_book)"
      ],
      "execution_count": null,
      "outputs": [
        {
          "output_type": "stream",
          "text": [
            "{'Joshua': 8383883, 'Monish': 937373773, 'george': 83737378}\n"
          ],
          "name": "stdout"
        }
      ]
    },
    {
      "cell_type": "code",
      "metadata": {
        "id": "kAs6NQpy0E_U",
        "colab": {
          "base_uri": "https://localhost:8080/",
          "height": 34
        },
        "outputId": "8f7f66d3-d48c-4aa2-bb71-8bdb8efb77ae"
      },
      "source": [
        "phone_book['Joshua']"
      ],
      "execution_count": null,
      "outputs": [
        {
          "output_type": "execute_result",
          "data": {
            "text/plain": [
              "8383883"
            ]
          },
          "metadata": {
            "tags": []
          },
          "execution_count": 62
        }
      ]
    },
    {
      "cell_type": "code",
      "metadata": {
        "id": "bvTqllT20T0v",
        "colab": {
          "base_uri": "https://localhost:8080/",
          "height": 34
        },
        "outputId": "db5eb006-5275-4deb-f8b8-87a0ad7f3321"
      },
      "source": [
        "phone_book.get('Monish')"
      ],
      "execution_count": null,
      "outputs": [
        {
          "output_type": "execute_result",
          "data": {
            "text/plain": [
              "937373773"
            ]
          },
          "metadata": {
            "tags": []
          },
          "execution_count": 63
        }
      ]
    },
    {
      "cell_type": "code",
      "metadata": {
        "id": "hPW8bGFu0cXL",
        "colab": {
          "base_uri": "https://localhost:8080/",
          "height": 34
        },
        "outputId": "91287de3-b348-4885-a111-ee2c58d82930"
      },
      "source": [
        "print(phone_book)"
      ],
      "execution_count": null,
      "outputs": [
        {
          "output_type": "stream",
          "text": [
            "{'Joshua': 8383883, 'Monish': 937373773, 'george': 83737378}\n"
          ],
          "name": "stdout"
        }
      ]
    },
    {
      "cell_type": "code",
      "metadata": {
        "id": "65XlaVne0hCt",
        "colab": {
          "base_uri": "https://localhost:8080/",
          "height": 34
        },
        "outputId": "e39ee0fd-e276-48c0-b5f5-40ead43229c6"
      },
      "source": [
        "phone_book['Mike'] = 38383939\n",
        "print(phone_book)"
      ],
      "execution_count": null,
      "outputs": [
        {
          "output_type": "stream",
          "text": [
            "{'Joshua': 8383883, 'Monish': 937373773, 'george': 83737378, 'Mike': 38383939}\n"
          ],
          "name": "stdout"
        }
      ]
    },
    {
      "cell_type": "code",
      "metadata": {
        "id": "hBNxJUIh0tXs",
        "colab": {
          "base_uri": "https://localhost:8080/",
          "height": 34
        },
        "outputId": "0dad20ae-3bd5-4305-d828-b9fc75357d82"
      },
      "source": [
        "phone_book['Joshua']= 7363636\n",
        "print(phone_book)"
      ],
      "execution_count": null,
      "outputs": [
        {
          "output_type": "stream",
          "text": [
            "{'Joshua': 7363636, 'Monish': 937373773, 'george': 83737378, 'Mike': 38383939}\n"
          ],
          "name": "stdout"
        }
      ]
    },
    {
      "cell_type": "code",
      "metadata": {
        "id": "59CW45cf095L",
        "colab": {
          "base_uri": "https://localhost:8080/",
          "height": 34
        },
        "outputId": "6900eab3-c5d5-4ea5-91a4-1187e23509be"
      },
      "source": [
        "phone_book.update({'Joe':737373})\n",
        "print(phone_book)"
      ],
      "execution_count": null,
      "outputs": [
        {
          "output_type": "stream",
          "text": [
            "{'Joshua': 7363636, 'Monish': 937373773, 'george': 83737378, 'Mike': 38383939, 'Joe': 737373}\n"
          ],
          "name": "stdout"
        }
      ]
    },
    {
      "cell_type": "code",
      "metadata": {
        "id": "MQRJaty31MkG",
        "colab": {
          "base_uri": "https://localhost:8080/",
          "height": 34
        },
        "outputId": "58515bb4-10df-4303-e2a0-6c7daf50c172"
      },
      "source": [
        "len(phone_book)"
      ],
      "execution_count": null,
      "outputs": [
        {
          "output_type": "execute_result",
          "data": {
            "text/plain": [
              "5"
            ]
          },
          "metadata": {
            "tags": []
          },
          "execution_count": 68
        }
      ]
    },
    {
      "cell_type": "code",
      "metadata": {
        "id": "puTxgaeq1Srl",
        "colab": {
          "base_uri": "https://localhost:8080/",
          "height": 34
        },
        "outputId": "858e674e-433e-4755-a424-58a5ee99a6e4"
      },
      "source": [
        "x = dict (name = \"Joshua\", age = \"30\")\n",
        "print(x)"
      ],
      "execution_count": null,
      "outputs": [
        {
          "output_type": "stream",
          "text": [
            "{'name': 'Joshua', 'age': '30'}\n"
          ],
          "name": "stdout"
        }
      ]
    },
    {
      "cell_type": "code",
      "metadata": {
        "id": "qe7mC8vc2Biz",
        "colab": {
          "base_uri": "https://localhost:8080/",
          "height": 34
        },
        "outputId": "126c0cdd-5efe-416a-de90-d1235a5d3b0a"
      },
      "source": [
        "phone_book= {'Joshua': 8383883,'Monish':937373773,\"george\":83737378}\n",
        "print(phone_book)"
      ],
      "execution_count": null,
      "outputs": [
        {
          "output_type": "stream",
          "text": [
            "{'Joshua': 8383883, 'Monish': 937373773, 'george': 83737378}\n"
          ],
          "name": "stdout"
        }
      ]
    },
    {
      "cell_type": "code",
      "metadata": {
        "id": "uJgY_xdF2GKY",
        "colab": {
          "base_uri": "https://localhost:8080/",
          "height": 34
        },
        "outputId": "0c368a5d-6fa8-4351-ffce-a277c9303a42"
      },
      "source": [
        "phone_book.pop('Monish')\n",
        "print(phone_book)"
      ],
      "execution_count": null,
      "outputs": [
        {
          "output_type": "stream",
          "text": [
            "{'Joshua': 8383883}\n"
          ],
          "name": "stdout"
        }
      ]
    },
    {
      "cell_type": "code",
      "metadata": {
        "id": "NUkGzNOI2pbo",
        "colab": {
          "base_uri": "https://localhost:8080/",
          "height": 34
        },
        "outputId": "1c4d1004-ab1b-42c1-9ad3-4b426a0b65e5"
      },
      "source": [
        "phone_book= {'Joshua': 8383883,'Monish':937373773,\"george\":83737378}\n",
        "print(phone_book)"
      ],
      "execution_count": null,
      "outputs": [
        {
          "output_type": "stream",
          "text": [
            "{'Joshua': 8383883, 'Monish': 937373773, 'george': 83737378}\n"
          ],
          "name": "stdout"
        }
      ]
    },
    {
      "cell_type": "code",
      "metadata": {
        "id": "XFiNAxmD2qpa",
        "colab": {
          "base_uri": "https://localhost:8080/",
          "height": 34
        },
        "outputId": "8bf43946-8977-417f-ab15-2271c31afcad"
      },
      "source": [
        "phone_book.popitem()\n",
        "print(phone_book)"
      ],
      "execution_count": null,
      "outputs": [
        {
          "output_type": "stream",
          "text": [
            "{'Joshua': 8383883, 'Monish': 937373773}\n"
          ],
          "name": "stdout"
        }
      ]
    },
    {
      "cell_type": "code",
      "metadata": {
        "id": "07qjg5MT28W-",
        "colab": {
          "base_uri": "https://localhost:8080/",
          "height": 50
        },
        "outputId": "6079cc01-cb2d-4eba-bca9-9b22b49e5926"
      },
      "source": [
        "phone_book= {'Joshua': 8383883,'Monish':937373773,\"george\":83737378}\n",
        "print(phone_book)\n",
        "phone_book.keys()"
      ],
      "execution_count": null,
      "outputs": [
        {
          "output_type": "stream",
          "text": [
            "{'Joshua': 8383883, 'Monish': 937373773, 'george': 83737378}\n"
          ],
          "name": "stdout"
        },
        {
          "output_type": "execute_result",
          "data": {
            "text/plain": [
              "dict_keys(['Joshua', 'Monish', 'george'])"
            ]
          },
          "metadata": {
            "tags": []
          },
          "execution_count": 95
        }
      ]
    },
    {
      "cell_type": "code",
      "metadata": {
        "id": "4OVI4KSj3QSI",
        "colab": {
          "base_uri": "https://localhost:8080/",
          "height": 212
        },
        "outputId": "d1bf98d4-076c-40cd-d4a0-399c74f0e08f"
      },
      "source": [
        "phone_book= {'Joshua': 8383883,'Monish':937373773,\"george\":83737378}\n",
        "print(phone_book)\n",
        "del phone_book\n",
        "print(phone_book)"
      ],
      "execution_count": null,
      "outputs": [
        {
          "output_type": "stream",
          "text": [
            "{'Joshua': 8383883, 'Monish': 937373773, 'george': 83737378}\n"
          ],
          "name": "stdout"
        },
        {
          "output_type": "error",
          "ename": "NameError",
          "evalue": "ignored",
          "traceback": [
            "\u001b[0;31m---------------------------------------------------------------------------\u001b[0m",
            "\u001b[0;31mNameError\u001b[0m                                 Traceback (most recent call last)",
            "\u001b[0;32m<ipython-input-97-c9413d1ae4a4>\u001b[0m in \u001b[0;36m<module>\u001b[0;34m()\u001b[0m\n\u001b[1;32m      2\u001b[0m \u001b[0mprint\u001b[0m\u001b[0;34m(\u001b[0m\u001b[0mphone_book\u001b[0m\u001b[0;34m)\u001b[0m\u001b[0;34m\u001b[0m\u001b[0;34m\u001b[0m\u001b[0m\n\u001b[1;32m      3\u001b[0m \u001b[0;32mdel\u001b[0m \u001b[0mphone_book\u001b[0m\u001b[0;34m\u001b[0m\u001b[0;34m\u001b[0m\u001b[0m\n\u001b[0;32m----> 4\u001b[0;31m \u001b[0mprint\u001b[0m\u001b[0;34m(\u001b[0m\u001b[0mphone_book\u001b[0m\u001b[0;34m)\u001b[0m\u001b[0;34m\u001b[0m\u001b[0;34m\u001b[0m\u001b[0m\n\u001b[0m",
            "\u001b[0;31mNameError\u001b[0m: name 'phone_book' is not defined"
          ]
        }
      ]
    },
    {
      "cell_type": "code",
      "metadata": {
        "id": "AVvVgCYG3dBq",
        "colab": {
          "base_uri": "https://localhost:8080/",
          "height": 34
        },
        "outputId": "422d8784-f21f-4660-a33f-2eaa645e94c9"
      },
      "source": [
        "classroom = {1: {'name': 'John', 'age': '13', 'sex': 'Male'},\n",
        "          2: {'name': 'Marie', 'age': '11', 'sex': 'Female'}}\n",
        "print(classroom)"
      ],
      "execution_count": null,
      "outputs": [
        {
          "output_type": "stream",
          "text": [
            "{1: {'name': 'John', 'age': '13', 'sex': 'Male'}, 2: {'name': 'Marie', 'age': '11', 'sex': 'Female'}}\n"
          ],
          "name": "stdout"
        }
      ]
    },
    {
      "cell_type": "code",
      "metadata": {
        "id": "A8yZ5uqv3kDl",
        "colab": {
          "base_uri": "https://localhost:8080/",
          "height": 35
        },
        "outputId": "fd3af1ed-3207-4a73-d477-6e6d70499528"
      },
      "source": [
        "classroom[2]['sex']"
      ],
      "execution_count": null,
      "outputs": [
        {
          "output_type": "execute_result",
          "data": {
            "application/vnd.google.colaboratory.intrinsic+json": {
              "type": "string"
            },
            "text/plain": [
              "'Female'"
            ]
          },
          "metadata": {
            "tags": []
          },
          "execution_count": 104
        }
      ]
    },
    {
      "cell_type": "code",
      "metadata": {
        "id": "oS1m9S0u33F6",
        "colab": {
          "base_uri": "https://localhost:8080/",
          "height": 34
        },
        "outputId": "01885324-e2ac-487d-dd56-0ee0d5cec62d"
      },
      "source": [
        "phone_book= {'Joshua': 8383883,'Monish':937373773,\"george\":83737378}\n",
        "print(phone_book)"
      ],
      "execution_count": null,
      "outputs": [
        {
          "output_type": "stream",
          "text": [
            "{'Joshua': 8383883, 'Monish': 937373773, 'george': 83737378}\n"
          ],
          "name": "stdout"
        }
      ]
    },
    {
      "cell_type": "code",
      "metadata": {
        "id": "jxB69RNS4GVu",
        "colab": {
          "base_uri": "https://localhost:8080/",
          "height": 67
        },
        "outputId": "4a91b493-c08e-453e-9310-9b443909c4d9"
      },
      "source": [
        "for key in phone_book:\n",
        "  print(key)"
      ],
      "execution_count": null,
      "outputs": [
        {
          "output_type": "stream",
          "text": [
            "Joshua\n",
            "Monish\n",
            "george\n"
          ],
          "name": "stdout"
        }
      ]
    },
    {
      "cell_type": "code",
      "metadata": {
        "id": "vYDJMXcK4RMr",
        "colab": {
          "base_uri": "https://localhost:8080/",
          "height": 84
        },
        "outputId": "05bc4231-4a4a-4d47-ccf5-c0c2fcba5530"
      },
      "source": [
        "phone_book= {'Joshua': 8383883,'Monish':937373773,\"george\":83737378}\n",
        "print(phone_book)\n",
        "x = phone_book.copy()\n",
        "print(x)\n",
        "x['Joshua']= 63636\n",
        "print(x)\n",
        "print(phone_book)\n"
      ],
      "execution_count": null,
      "outputs": [
        {
          "output_type": "stream",
          "text": [
            "{'Joshua': 8383883, 'Monish': 937373773, 'george': 83737378}\n",
            "{'Joshua': 8383883, 'Monish': 937373773, 'george': 83737378}\n",
            "{'Joshua': 63636, 'Monish': 937373773, 'george': 83737378}\n",
            "{'Joshua': 8383883, 'Monish': 937373773, 'george': 83737378}\n"
          ],
          "name": "stdout"
        }
      ]
    }
  ]
}